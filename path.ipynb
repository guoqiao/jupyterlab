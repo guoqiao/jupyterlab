{
 "cells": [
  {
   "cell_type": "code",
   "execution_count": 1,
   "id": "d95f6c39-0a0f-44ea-b686-2dd189824979",
   "metadata": {
    "tags": []
   },
   "outputs": [
    {
     "name": "stdout",
     "output_type": "stream",
     "text": [
      "/home/guoqiao/jupyter\n",
      "[PosixPath('/home/guoqiao/jupyter/.git'), PosixPath('/home/guoqiao/jupyter/.ipynb_checkpoints'), PosixPath('/home/guoqiao/jupyter/path.ipynb'), PosixPath('/home/guoqiao/jupyter/README.md'), PosixPath('/home/guoqiao/jupyter/Makefile')]\n"
     ]
    },
    {
     "data": {
      "text/plain": [
       "'file:///home/guoqiao/jupyter/README.md'"
      ]
     },
     "execution_count": 1,
     "metadata": {},
     "output_type": "execute_result"
    }
   ],
   "source": [
    "from pathlib import Path\n",
    "\n",
    "HERE = Path('./main.ipynb').resolve().parent\n",
    "print(HERE)\n",
    "\n",
    "v = list(HERE.iterdir())\n",
    "print(v)\n",
    "\n",
    "f = HERE / 'README.md'\n",
    "f.read_text()\n",
    "f.stem\n",
    "f.as_uri()"
   ]
  },
  {
   "cell_type": "code",
   "execution_count": null,
   "id": "434254ee-485e-4ced-a08c-e64ffa4fe222",
   "metadata": {},
   "outputs": [],
   "source": []
  }
 ],
 "metadata": {
  "kernelspec": {
   "display_name": "Python 3 (ipykernel)",
   "language": "python",
   "name": "python3"
  },
  "language_info": {
   "codemirror_mode": {
    "name": "ipython",
    "version": 3
   },
   "file_extension": ".py",
   "mimetype": "text/x-python",
   "name": "python",
   "nbconvert_exporter": "python",
   "pygments_lexer": "ipython3",
   "version": "3.10.6"
  },
  "vscode": {
   "interpreter": {
    "hash": "916dbcbb3f70747c44a77c7bcd40155683ae19c65e1c03b4aa3499c5328201f1"
   }
  }
 },
 "nbformat": 4,
 "nbformat_minor": 5
}
